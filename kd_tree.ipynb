{
  "nbformat": 4,
  "nbformat_minor": 0,
  "metadata": {
    "colab": {
      "name": "kd_tree.ipynb",
      "provenance": [],
      "collapsed_sections": [],
      "authorship_tag": "ABX9TyO6+bSCLAhZv3UF9pR7csY+",
      "include_colab_link": true
    },
    "kernelspec": {
      "name": "python3",
      "display_name": "Python 3"
    }
  },
  "cells": [
    {
      "cell_type": "markdown",
      "metadata": {
        "id": "view-in-github",
        "colab_type": "text"
      },
      "source": [
        "<a href=\"https://colab.research.google.com/github/sadikul1500/K-d-Tree/blob/main/kd_tree.ipynb\" target=\"_parent\"><img src=\"https://colab.research.google.com/assets/colab-badge.svg\" alt=\"Open In Colab\"/></a>"
      ]
    },
    {
      "cell_type": "code",
      "metadata": {
        "id": "1sgfF9rT0VVl"
      },
      "source": [
        "class Node:\n",
        "  def __init__(self, point, parent, left, right, depth,align):\n",
        "    self.point = point #list [1,2,3]\n",
        "    self.parent = parent #node\n",
        "    self.left = left #node\n",
        "    self.right = right #node\n",
        "    self.align = align #int\n",
        "    self.depth = depth\n"
      ],
      "execution_count": null,
      "outputs": []
    },
    {
      "cell_type": "code",
      "metadata": {
        "id": "9W7Hn6YeUk_X"
      },
      "source": [
        "def insert_point(node, point):\n",
        "  if point[node.align] >= node.point[node.align]:\n",
        "    if node.right == None:\n",
        "      node.right = Node(point, node, None, None, node.depth+1, (node.align+1)%k)\n",
        "    else:\n",
        "      insert_point(node.right, point)\n",
        "  else:\n",
        "    if node.left == None:\n",
        "      node.left = Node(point, node, None, None, node.depth+1, (node.align+1)%k)\n",
        "    else:\n",
        "      insert_point(node.left, point)\n"
      ],
      "execution_count": null,
      "outputs": []
    },
    {
      "cell_type": "code",
      "metadata": {
        "id": "uY8-76Us1QsP"
      },
      "source": [
        "def build_tree(point):\n",
        "  global root\n",
        "  if not root:\n",
        "    root = Node(point, None, None, None, 0, 0)\n",
        "  else:\n",
        "    insert_point(root, point)\n"
      ],
      "execution_count": null,
      "outputs": []
    },
    {
      "cell_type": "code",
      "metadata": {
        "id": "hGBr3g9coM-x"
      },
      "source": [
        "def print_tree(node, position, space=\"\"):\n",
        "  if not node:\n",
        "    return\n",
        "  print(position, space, end=\"\")\n",
        "  print(node.point)\n",
        "  print_tree(node.left, \"l\", space + \"--\")\n",
        "  print_tree(node.right, \"r\", space + \"--\")\n"
      ],
      "execution_count": null,
      "outputs": []
    },
    {
      "cell_type": "code",
      "metadata": {
        "id": "tdQyINQs49XK"
      },
      "source": [
        "def equal(x, y):\n",
        "  for i in range(k):\n",
        "    if x[i] != y[i]:\n",
        "      return False\n",
        "  return True"
      ],
      "execution_count": null,
      "outputs": []
    },
    {
      "cell_type": "code",
      "metadata": {
        "id": "VcFDsioS0mEe"
      },
      "source": [
        "def search_point(node, point):\n",
        "  if not node:\n",
        "    print(\"not found \")\n",
        "    return\n",
        "  if equal(node.point, point):\n",
        "    print(\"found at depth \" + str(node.depth))\n",
        "    return\n",
        "  elif point[node.align] >= node.point[node.align]:\n",
        "    search_point(node.right, point)\n",
        "  else:\n",
        "    search_point(node.left, point)  "
      ],
      "execution_count": null,
      "outputs": []
    },
    {
      "cell_type": "code",
      "metadata": {
        "id": "JN411UPk0xh2",
        "outputId": "6ca617d4-99c1-4d69-a53e-da535f054e6b",
        "colab": {
          "base_uri": "https://localhost:8080/",
          "height": 272
        }
      },
      "source": [
        "root = None\n",
        "k = 2\n",
        "points = [[3,6], [17,15], [13,15], [6,12], [9,1], [2,7], [10,19], [2,7]]\n",
        "\n",
        "for p in points:\n",
        "  build_tree(p)\n",
        "print_tree(root, \" \", \"\")\n",
        "\n",
        "print(\"\\nSearch-\")\n",
        "for i in range(2):\n",
        "  point = list(map(int, input().split()))\n",
        "  search_point(root, point)\n",
        "\n"
      ],
      "execution_count": null,
      "outputs": [
        {
          "output_type": "stream",
          "text": [
            "  [3, 6]\n",
            "l --[2, 7]\n",
            "r ----[2, 7]\n",
            "r --[17, 15]\n",
            "l ----[6, 12]\n",
            "r ------[9, 1]\n",
            "r ----[13, 15]\n",
            "l ------[10, 19]\n",
            "\n",
            "Search-\n",
            "9 1\n",
            "found at depth 3\n",
            "3 7\n",
            "not found \n"
          ],
          "name": "stdout"
        }
      ]
    }
  ]
}